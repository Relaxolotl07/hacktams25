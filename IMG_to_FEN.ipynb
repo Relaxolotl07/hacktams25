{
 "cells": [
  {
   "cell_type": "code",
   "execution_count": 3,
   "id": "a189dd15-f920-4313-934a-88056d73212f",
   "metadata": {},
   "outputs": [
    {
     "name": "stdout",
     "output_type": "stream",
     "text": [
      "Requirement already satisfied: torch in c:\\users\\its4a\\anaconda3\\lib\\site-packages (2.6.0)\n",
      "Requirement already satisfied: torchvision in c:\\users\\its4a\\anaconda3\\lib\\site-packages (0.21.0)\n",
      "Collecting torchaudio\n",
      "  Downloading torchaudio-2.6.0-cp312-cp312-win_amd64.whl.metadata (6.7 kB)\n",
      "Requirement already satisfied: chess in c:\\users\\its4a\\anaconda3\\lib\\site-packages (1.11.1)\n",
      "Collecting pytorch-lightning\n",
      "  Downloading pytorch_lightning-2.5.0.post0-py3-none-any.whl.metadata (21 kB)\n",
      "Requirement already satisfied: filelock in c:\\users\\its4a\\anaconda3\\lib\\site-packages (from torch) (3.13.1)\n",
      "Requirement already satisfied: typing-extensions>=4.10.0 in c:\\users\\its4a\\anaconda3\\lib\\site-packages (from torch) (4.11.0)\n",
      "Requirement already satisfied: networkx in c:\\users\\its4a\\anaconda3\\lib\\site-packages (from torch) (3.3)\n",
      "Requirement already satisfied: jinja2 in c:\\users\\its4a\\anaconda3\\lib\\site-packages (from torch) (3.1.4)\n",
      "Requirement already satisfied: fsspec in c:\\users\\its4a\\anaconda3\\lib\\site-packages (from torch) (2024.6.1)\n",
      "Requirement already satisfied: setuptools in c:\\users\\its4a\\anaconda3\\lib\\site-packages (from torch) (75.1.0)\n",
      "Requirement already satisfied: sympy==1.13.1 in c:\\users\\its4a\\anaconda3\\lib\\site-packages (from torch) (1.13.1)\n",
      "Requirement already satisfied: mpmath<1.4,>=1.1.0 in c:\\users\\its4a\\anaconda3\\lib\\site-packages (from sympy==1.13.1->torch) (1.3.0)\n",
      "Requirement already satisfied: numpy in c:\\users\\its4a\\anaconda3\\lib\\site-packages (from torchvision) (1.26.4)\n",
      "Requirement already satisfied: pillow!=8.3.*,>=5.3.0 in c:\\users\\its4a\\anaconda3\\lib\\site-packages (from torchvision) (10.4.0)\n",
      "Requirement already satisfied: tqdm>=4.57.0 in c:\\users\\its4a\\anaconda3\\lib\\site-packages (from pytorch-lightning) (4.66.5)\n",
      "Requirement already satisfied: PyYAML>=5.4 in c:\\users\\its4a\\anaconda3\\lib\\site-packages (from pytorch-lightning) (6.0.1)\n",
      "Collecting torchmetrics>=0.7.0 (from pytorch-lightning)\n",
      "  Downloading torchmetrics-1.6.1-py3-none-any.whl.metadata (21 kB)\n",
      "Requirement already satisfied: packaging>=20.0 in c:\\users\\its4a\\anaconda3\\lib\\site-packages (from pytorch-lightning) (24.1)\n",
      "Collecting lightning-utilities>=0.10.0 (from pytorch-lightning)\n",
      "  Downloading lightning_utilities-0.12.0-py3-none-any.whl.metadata (5.6 kB)\n",
      "Requirement already satisfied: aiohttp!=4.0.0a0,!=4.0.0a1 in c:\\users\\its4a\\anaconda3\\lib\\site-packages (from fsspec[http]>=2022.5.0->pytorch-lightning) (3.10.5)\n",
      "Requirement already satisfied: colorama in c:\\users\\its4a\\anaconda3\\lib\\site-packages (from tqdm>=4.57.0->pytorch-lightning) (0.4.6)\n",
      "Requirement already satisfied: MarkupSafe>=2.0 in c:\\users\\its4a\\anaconda3\\lib\\site-packages (from jinja2->torch) (2.1.3)\n",
      "Requirement already satisfied: aiohappyeyeballs>=2.3.0 in c:\\users\\its4a\\anaconda3\\lib\\site-packages (from aiohttp!=4.0.0a0,!=4.0.0a1->fsspec[http]>=2022.5.0->pytorch-lightning) (2.4.0)\n",
      "Requirement already satisfied: aiosignal>=1.1.2 in c:\\users\\its4a\\anaconda3\\lib\\site-packages (from aiohttp!=4.0.0a0,!=4.0.0a1->fsspec[http]>=2022.5.0->pytorch-lightning) (1.2.0)\n",
      "Requirement already satisfied: attrs>=17.3.0 in c:\\users\\its4a\\anaconda3\\lib\\site-packages (from aiohttp!=4.0.0a0,!=4.0.0a1->fsspec[http]>=2022.5.0->pytorch-lightning) (23.1.0)\n",
      "Requirement already satisfied: frozenlist>=1.1.1 in c:\\users\\its4a\\anaconda3\\lib\\site-packages (from aiohttp!=4.0.0a0,!=4.0.0a1->fsspec[http]>=2022.5.0->pytorch-lightning) (1.4.0)\n",
      "Requirement already satisfied: multidict<7.0,>=4.5 in c:\\users\\its4a\\anaconda3\\lib\\site-packages (from aiohttp!=4.0.0a0,!=4.0.0a1->fsspec[http]>=2022.5.0->pytorch-lightning) (6.0.4)\n",
      "Requirement already satisfied: yarl<2.0,>=1.0 in c:\\users\\its4a\\anaconda3\\lib\\site-packages (from aiohttp!=4.0.0a0,!=4.0.0a1->fsspec[http]>=2022.5.0->pytorch-lightning) (1.11.0)\n",
      "Requirement already satisfied: idna>=2.0 in c:\\users\\its4a\\anaconda3\\lib\\site-packages (from yarl<2.0,>=1.0->aiohttp!=4.0.0a0,!=4.0.0a1->fsspec[http]>=2022.5.0->pytorch-lightning) (3.7)\n",
      "Downloading torchaudio-2.6.0-cp312-cp312-win_amd64.whl (2.4 MB)\n",
      "   ---------------------------------------- 0.0/2.4 MB ? eta -:--:--\n",
      "   ---- ----------------------------------- 0.3/2.4 MB ? eta -:--:--\n",
      "   ------------ --------------------------- 0.8/2.4 MB 2.6 MB/s eta 0:00:01\n",
      "   --------------------- ------------------ 1.3/2.4 MB 2.4 MB/s eta 0:00:01\n",
      "   -------------------------------------- - 2.4/2.4 MB 3.1 MB/s eta 0:00:01\n",
      "   ---------------------------------------- 2.4/2.4 MB 3.1 MB/s eta 0:00:00\n",
      "Downloading pytorch_lightning-2.5.0.post0-py3-none-any.whl (819 kB)\n",
      "   ---------------------------------------- 0.0/819.3 kB ? eta -:--:--\n",
      "   ---------------------------------------- 819.3/819.3 kB 6.0 MB/s eta 0:00:00\n",
      "Downloading lightning_utilities-0.12.0-py3-none-any.whl (28 kB)\n",
      "Downloading torchmetrics-1.6.1-py3-none-any.whl (927 kB)\n",
      "   ---------------------------------------- 0.0/927.3 kB ? eta -:--:--\n",
      "   ---------------------------------------- 927.3/927.3 kB 6.0 MB/s eta 0:00:00\n",
      "Installing collected packages: lightning-utilities, torchmetrics, torchaudio, pytorch-lightning\n",
      "Successfully installed lightning-utilities-0.12.0 pytorch-lightning-2.5.0.post0 torchaudio-2.6.0 torchmetrics-1.6.1\n"
     ]
    }
   ],
   "source": [
    "!pip install torch torchvision torchaudio chess pytorch-lightning\n",
    "\n",
    "from stockfish import Stockfish as sf\n",
    "from torch import torch\n"
   ]
  },
  {
   "cell_type": "code",
   "execution_count": 1,
   "id": "c0ee7900-8c12-4485-b50d-869915a3dbbc",
   "metadata": {
    "scrolled": true
   },
   "outputs": [],
   "source": [
    "from prediction import BoardPredictor\n",
    "import sys\n",
    "import chess.svg\n",
    "\n",
    "## testing\n",
    "image_file_path = \"\"\n",
    "\n",
    "\n",
    "# Check for correct number of command-line arguments\n",
    "if len(sys.argv) < 3:\n",
    "    print(\"Usage: main.py <model_file_path> <image_file_path>\")\n",
    "    sys.exit(1)\n",
    "\n",
    "# Command-line arguments\n",
    "model_file_path = sys.argv[1]\n",
    "image_file_path = sys.argv[2]\n",
    "\n",
    "# Instantiate the BoardPredictor with the model file path\n",
    "predictor = BoardPredictor(model_file_path)\n",
    "\n",
    "# Perform prediction\n",
    "predicted_board = predictor.predict(image_file_path)\n",
    "\n",
    "# Render the predicted board to an SVG file or display it\n",
    "board_svg = chess.svg.board(board=predicted_board)\n",
    "with open(\"predicted_board.svg\", \"w\") as f:\n",
    "    f.write(board_svg)\n",
    "\n",
    "# Optionally display the board SVG in the console (if your terminal supports it)\n",
    "# print(board_svg)\n",
    "\n",
    "print(\"Prediction complete. Check the 'predicted_board.svg' file.\")\n"
   ]
  },
  {
   "cell_type": "code",
   "execution_count": null,
   "id": "10db4a42-4b36-4d32-89c3-9981fe480c74",
   "metadata": {},
   "outputs": [],
   "source": []
  },
  {
   "cell_type": "code",
   "execution_count": null,
   "id": "81039953-624f-498e-9909-4407a9a08244",
   "metadata": {},
   "outputs": [],
   "source": []
  }
 ],
 "metadata": {
  "kernelspec": {
   "display_name": "Python [conda env:base] *",
   "language": "python",
   "name": "conda-base-py"
  },
  "language_info": {
   "codemirror_mode": {
    "name": "ipython",
    "version": 3
   },
   "file_extension": ".py",
   "mimetype": "text/x-python",
   "name": "python",
   "nbconvert_exporter": "python",
   "pygments_lexer": "ipython3",
   "version": "3.12.7"
  }
 },
 "nbformat": 4,
 "nbformat_minor": 5
}
