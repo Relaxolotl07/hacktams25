{
 "cells": [
  {
   "cell_type": "code",
   "execution_count": 3,
   "id": "a189dd15-f920-4313-934a-88056d73212f",
   "metadata": {},
   "outputs": [],
   "source": [
    "from stockfish import Stockfish as sf\n",
    "from torch import torch\n"
   ]
  },
  {
   "cell_type": "code",
   "execution_count": 1,
   "id": "c0ee7900-8c12-4485-b50d-869915a3dbbc",
   "metadata": {},
   "outputs": [
    {
     "ename": "ModuleNotFoundError",
     "evalue": "No module named 'torchvision'",
     "output_type": "error",
     "traceback": [
      "\u001b[1;31m---------------------------------------------------------------------------\u001b[0m",
      "\u001b[1;31mModuleNotFoundError\u001b[0m                       Traceback (most recent call last)",
      "Cell \u001b[1;32mIn[1], line 1\u001b[0m\n\u001b[1;32m----> 1\u001b[0m \u001b[38;5;28;01mfrom\u001b[39;00m \u001b[38;5;21;01mprediction\u001b[39;00m \u001b[38;5;28;01mimport\u001b[39;00m BoardPredictor\n\u001b[0;32m      2\u001b[0m \u001b[38;5;28;01mimport\u001b[39;00m \u001b[38;5;21;01msys\u001b[39;00m\n\u001b[0;32m      3\u001b[0m \u001b[38;5;28;01mimport\u001b[39;00m \u001b[38;5;21;01mchess\u001b[39;00m\u001b[38;5;21;01m.\u001b[39;00m\u001b[38;5;21;01msvg\u001b[39;00m\n",
      "File \u001b[1;32m~\\Coding projects\\hacktams25\\hacktams25\\prediction.py:8\u001b[0m\n\u001b[0;32m      6\u001b[0m \u001b[38;5;28;01mfrom\u001b[39;00m \u001b[38;5;21;01mPIL\u001b[39;00m \u001b[38;5;28;01mimport\u001b[39;00m Image\n\u001b[0;32m      7\u001b[0m \u001b[38;5;28;01mimport\u001b[39;00m \u001b[38;5;21;01mtorch\u001b[39;00m\n\u001b[1;32m----> 8\u001b[0m \u001b[38;5;28;01mimport\u001b[39;00m \u001b[38;5;21;01mtorchvision\u001b[39;00m\u001b[38;5;21;01m.\u001b[39;00m\u001b[38;5;21;01mtransforms\u001b[39;00m\u001b[38;5;21;01m.\u001b[39;00m\u001b[38;5;21;01mv2\u001b[39;00m \u001b[38;5;28;01mas\u001b[39;00m \u001b[38;5;21;01mT\u001b[39;00m\n\u001b[0;32m     11\u001b[0m \u001b[38;5;28;01mclass\u001b[39;00m \u001b[38;5;21;01mBoard\u001b[39;00m:\n\u001b[0;32m     12\u001b[0m     \u001b[38;5;28;01mdef\u001b[39;00m \u001b[38;5;21m__init__\u001b[39m(\u001b[38;5;28mself\u001b[39m, board):\n",
      "\u001b[1;31mModuleNotFoundError\u001b[0m: No module named 'torchvision'"
     ]
    }
   ],
   "source": [
    "from prediction import BoardPredictor\n",
    "import sys\n",
    "import chess.svg\n",
    "\n",
    "\n",
    "def main():\n",
    "    # Check for correct number of command-line arguments\n",
    "    if len(sys.argv) < 3:\n",
    "        print(\"Usage: main.py <model_file_path> <image_file_path>\")\n",
    "        sys.exit(1)\n",
    "\n",
    "    # Command-line arguments\n",
    "    model_file_path = sys.argv[1]\n",
    "    image_file_path = sys.argv[2]\n",
    "\n",
    "    # Instantiate the BoardPredictor with the model file path\n",
    "    predictor = BoardPredictor(model_file_path)\n",
    "\n",
    "    # Perform prediction\n",
    "    predicted_board = predictor.predict(image_file_path)\n",
    "\n",
    "    # Render the predicted board to an SVG file or display it\n",
    "    board_svg = chess.svg.board(board=predicted_board)\n",
    "    with open(\"predicted_board.svg\", \"w\") as f:\n",
    "        f.write(board_svg)\n",
    "\n",
    "    # Optionally display the board SVG in the console (if your terminal supports it)\n",
    "    # print(board_svg)\n",
    "\n",
    "    print(\"Prediction complete. Check the 'predicted_board.svg' file.\")\n"
   ]
  },
  {
   "cell_type": "code",
   "execution_count": null,
   "id": "10db4a42-4b36-4d32-89c3-9981fe480c74",
   "metadata": {},
   "outputs": [],
   "source": []
  }
 ],
 "metadata": {
  "kernelspec": {
   "display_name": "Python [conda env:base] *",
   "language": "python",
   "name": "conda-base-py"
  },
  "language_info": {
   "codemirror_mode": {
    "name": "ipython",
    "version": 3
   },
   "file_extension": ".py",
   "mimetype": "text/x-python",
   "name": "python",
   "nbconvert_exporter": "python",
   "pygments_lexer": "ipython3",
   "version": "3.12.7"
  }
 },
 "nbformat": 4,
 "nbformat_minor": 5
}
