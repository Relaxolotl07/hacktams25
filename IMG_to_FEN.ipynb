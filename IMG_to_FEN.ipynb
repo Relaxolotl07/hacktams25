{
 "cells": [
  {
   "cell_type": "code",
   "execution_count": 3,
   "id": "a189dd15-f920-4313-934a-88056d73212f",
   "metadata": {},
   "outputs": [
    {
     "name": "stdout",
     "output_type": "stream",
     "text": [
      "Requirement already satisfied: torch in c:\\users\\its4a\\anaconda3\\lib\\site-packages (2.6.0)\n",
      "Requirement already satisfied: torchvision in c:\\users\\its4a\\anaconda3\\lib\\site-packages (0.21.0)\n",
      "Collecting torchaudio\n",
      "  Downloading torchaudio-2.6.0-cp312-cp312-win_amd64.whl.metadata (6.7 kB)\n",
      "Requirement already satisfied: chess in c:\\users\\its4a\\anaconda3\\lib\\site-packages (1.11.1)\n",
      "Collecting pytorch-lightning\n",
      "  Downloading pytorch_lightning-2.5.0.post0-py3-none-any.whl.metadata (21 kB)\n",
      "Requirement already satisfied: filelock in c:\\users\\its4a\\anaconda3\\lib\\site-packages (from torch) (3.13.1)\n",
      "Requirement already satisfied: typing-extensions>=4.10.0 in c:\\users\\its4a\\anaconda3\\lib\\site-packages (from torch) (4.11.0)\n",
      "Requirement already satisfied: networkx in c:\\users\\its4a\\anaconda3\\lib\\site-packages (from torch) (3.3)\n",
      "Requirement already satisfied: jinja2 in c:\\users\\its4a\\anaconda3\\lib\\site-packages (from torch) (3.1.4)\n",
      "Requirement already satisfied: fsspec in c:\\users\\its4a\\anaconda3\\lib\\site-packages (from torch) (2024.6.1)\n",
      "Requirement already satisfied: setuptools in c:\\users\\its4a\\anaconda3\\lib\\site-packages (from torch) (75.1.0)\n",
      "Requirement already satisfied: sympy==1.13.1 in c:\\users\\its4a\\anaconda3\\lib\\site-packages (from torch) (1.13.1)\n",
      "Requirement already satisfied: mpmath<1.4,>=1.1.0 in c:\\users\\its4a\\anaconda3\\lib\\site-packages (from sympy==1.13.1->torch) (1.3.0)\n",
      "Requirement already satisfied: numpy in c:\\users\\its4a\\anaconda3\\lib\\site-packages (from torchvision) (1.26.4)\n",
      "Requirement already satisfied: pillow!=8.3.*,>=5.3.0 in c:\\users\\its4a\\anaconda3\\lib\\site-packages (from torchvision) (10.4.0)\n",
      "Requirement already satisfied: tqdm>=4.57.0 in c:\\users\\its4a\\anaconda3\\lib\\site-packages (from pytorch-lightning) (4.66.5)\n",
      "Requirement already satisfied: PyYAML>=5.4 in c:\\users\\its4a\\anaconda3\\lib\\site-packages (from pytorch-lightning) (6.0.1)\n",
      "Collecting torchmetrics>=0.7.0 (from pytorch-lightning)\n",
      "  Downloading torchmetrics-1.6.1-py3-none-any.whl.metadata (21 kB)\n",
      "Requirement already satisfied: packaging>=20.0 in c:\\users\\its4a\\anaconda3\\lib\\site-packages (from pytorch-lightning) (24.1)\n",
      "Collecting lightning-utilities>=0.10.0 (from pytorch-lightning)\n",
      "  Downloading lightning_utilities-0.12.0-py3-none-any.whl.metadata (5.6 kB)\n",
      "Requirement already satisfied: aiohttp!=4.0.0a0,!=4.0.0a1 in c:\\users\\its4a\\anaconda3\\lib\\site-packages (from fsspec[http]>=2022.5.0->pytorch-lightning) (3.10.5)\n",
      "Requirement already satisfied: colorama in c:\\users\\its4a\\anaconda3\\lib\\site-packages (from tqdm>=4.57.0->pytorch-lightning) (0.4.6)\n",
      "Requirement already satisfied: MarkupSafe>=2.0 in c:\\users\\its4a\\anaconda3\\lib\\site-packages (from jinja2->torch) (2.1.3)\n",
      "Requirement already satisfied: aiohappyeyeballs>=2.3.0 in c:\\users\\its4a\\anaconda3\\lib\\site-packages (from aiohttp!=4.0.0a0,!=4.0.0a1->fsspec[http]>=2022.5.0->pytorch-lightning) (2.4.0)\n",
      "Requirement already satisfied: aiosignal>=1.1.2 in c:\\users\\its4a\\anaconda3\\lib\\site-packages (from aiohttp!=4.0.0a0,!=4.0.0a1->fsspec[http]>=2022.5.0->pytorch-lightning) (1.2.0)\n",
      "Requirement already satisfied: attrs>=17.3.0 in c:\\users\\its4a\\anaconda3\\lib\\site-packages (from aiohttp!=4.0.0a0,!=4.0.0a1->fsspec[http]>=2022.5.0->pytorch-lightning) (23.1.0)\n",
      "Requirement already satisfied: frozenlist>=1.1.1 in c:\\users\\its4a\\anaconda3\\lib\\site-packages (from aiohttp!=4.0.0a0,!=4.0.0a1->fsspec[http]>=2022.5.0->pytorch-lightning) (1.4.0)\n",
      "Requirement already satisfied: multidict<7.0,>=4.5 in c:\\users\\its4a\\anaconda3\\lib\\site-packages (from aiohttp!=4.0.0a0,!=4.0.0a1->fsspec[http]>=2022.5.0->pytorch-lightning) (6.0.4)\n",
      "Requirement already satisfied: yarl<2.0,>=1.0 in c:\\users\\its4a\\anaconda3\\lib\\site-packages (from aiohttp!=4.0.0a0,!=4.0.0a1->fsspec[http]>=2022.5.0->pytorch-lightning) (1.11.0)\n",
      "Requirement already satisfied: idna>=2.0 in c:\\users\\its4a\\anaconda3\\lib\\site-packages (from yarl<2.0,>=1.0->aiohttp!=4.0.0a0,!=4.0.0a1->fsspec[http]>=2022.5.0->pytorch-lightning) (3.7)\n",
      "Downloading torchaudio-2.6.0-cp312-cp312-win_amd64.whl (2.4 MB)\n",
      "   ---------------------------------------- 0.0/2.4 MB ? eta -:--:--\n",
      "   ---- ----------------------------------- 0.3/2.4 MB ? eta -:--:--\n",
      "   ------------ --------------------------- 0.8/2.4 MB 2.6 MB/s eta 0:00:01\n",
      "   --------------------- ------------------ 1.3/2.4 MB 2.4 MB/s eta 0:00:01\n",
      "   -------------------------------------- - 2.4/2.4 MB 3.1 MB/s eta 0:00:01\n",
      "   ---------------------------------------- 2.4/2.4 MB 3.1 MB/s eta 0:00:00\n",
      "Downloading pytorch_lightning-2.5.0.post0-py3-none-any.whl (819 kB)\n",
      "   ---------------------------------------- 0.0/819.3 kB ? eta -:--:--\n",
      "   ---------------------------------------- 819.3/819.3 kB 6.0 MB/s eta 0:00:00\n",
      "Downloading lightning_utilities-0.12.0-py3-none-any.whl (28 kB)\n",
      "Downloading torchmetrics-1.6.1-py3-none-any.whl (927 kB)\n",
      "   ---------------------------------------- 0.0/927.3 kB ? eta -:--:--\n",
      "   ---------------------------------------- 927.3/927.3 kB 6.0 MB/s eta 0:00:00\n",
      "Installing collected packages: lightning-utilities, torchmetrics, torchaudio, pytorch-lightning\n",
      "Successfully installed lightning-utilities-0.12.0 pytorch-lightning-2.5.0.post0 torchaudio-2.6.0 torchmetrics-1.6.1\n"
     ]
    }
   ],
   "source": [
    "!pip install torch torchvision torchaudio chess pytorch-lightning\n",
    "\n",
    "from stockfish import Stockfish as sf\n",
    "from torch import torch\n"
   ]
  },
  {
   "cell_type": "code",
   "execution_count": null,
   "id": "32b83559-c4fc-47eb-b599-c117093e3210",
   "metadata": {},
   "outputs": [],
   "source": []
  },
  {
   "cell_type": "code",
   "execution_count": 17,
   "id": "c0ee7900-8c12-4485-b50d-869915a3dbbc",
   "metadata": {},
   "outputs": [
    {
     "ename": "SyntaxError",
     "evalue": "'return' outside function (1660003482.py, line 18)",
     "output_type": "error",
     "traceback": [
      "\u001b[1;36m  Cell \u001b[1;32mIn[17], line 18\u001b[1;36m\u001b[0m\n\u001b[1;33m    return\u001b[0m\n\u001b[1;37m    ^\u001b[0m\n\u001b[1;31mSyntaxError\u001b[0m\u001b[1;31m:\u001b[0m 'return' outside function\n"
     ]
    }
   ],
   "source": [
    "#import images\n",
    "\n",
    "import os\n",
    "import chess.svg\n",
    "from IPython.display import display, SVG, Image\n",
    "from prediction import BoardPredictor\n",
    "\n",
    "# Set paths\n",
    "model_file_path = \"2023-11-02-fenify-3d-efficientnet-v2-s-95-val-acc.pt\"  # Your model file\n",
    "image_folder = \"testing\"  # Change to your actual folder name\n",
    "\n",
    "image_name = \"w0.jpg\"\n",
    "\n",
    "image_path = os.path.join(image_folder, image_name)\n",
    "# Ensure the file exists\n",
    "if not os.path.exists(image_path):\n",
    "    print(f\"Image {image_name} not found.\")\n",
    "    return\n",
    "\n",
    "Image(filename=image_name) "
   ]
  },
  {
   "cell_type": "code",
   "execution_count": null,
   "id": "fce7b298-2272-4a8f-ad5f-2aefa585d956",
   "metadata": {},
   "outputs": [],
   "source": [
    "#preprocess and crop images"
   ]
  },
  {
   "cell_type": "code",
   "execution_count": null,
   "id": "4e568f7a-7c10-45b8-a5ba-366f5a15fdbb",
   "metadata": {},
   "outputs": [],
   "source": [
    "# Load the predictor\n",
    "predictor = BoardPredictor(model_file_path)\n",
    "\n",
    "def predict_and_display(image_name):\n",
    "    \"\"\"Predicts the chessboard from an image and displays the SVG.\"\"\"\n",
    "    \n",
    "    # Perform prediction\n",
    "    predicted_board = predictor.predict(image_path)\n",
    "\n",
    "    # Generate SVG\n",
    "    board_svg = chess.svg.board(board=predicted_board)\n",
    "\n",
    "    # Display the SVG in the notebook\n",
    "    display(SVG(board_svg))\n",
    "\n",
    "# Example: Predict and display for a specific image\n",
    "predict_and_display(\"w0.jpg\")  # Change \"w0.jpg\" to any filename you want"
   ]
  }
 ],
 "metadata": {
  "kernelspec": {
   "display_name": "Python [conda env:base] *",
   "language": "python",
   "name": "conda-base-py"
  },
  "language_info": {
   "codemirror_mode": {
    "name": "ipython",
    "version": 3
   },
   "file_extension": ".py",
   "mimetype": "text/x-python",
   "name": "python",
   "nbconvert_exporter": "python",
   "pygments_lexer": "ipython3",
   "version": "3.12.7"
  }
 },
 "nbformat": 4,
 "nbformat_minor": 5
}
